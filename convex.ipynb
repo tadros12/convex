{
 "cells": [
  {
   "cell_type": "code",
   "execution_count": 30,
   "metadata": {},
   "outputs": [
    {
     "name": "stderr",
     "output_type": "stream",
     "text": [
      "[*********************100%***********************]  5 of 5 completed"
     ]
    },
    {
     "name": "stdout",
     "output_type": "stream",
     "text": [
      "Ticker            AAPL        AMZN       GOOGL        META        MSFT\n",
      "Date                                                                  \n",
      "2024-11-14  228.220001  211.479996  175.580002  577.159973  426.037231\n",
      "2024-11-15  225.000000  202.610001  172.490005  554.080017  414.170990\n",
      "2024-11-18  228.020004  201.699997  175.300003  554.400024  414.929474\n",
      "2024-11-19  228.279999  204.610001  178.119995  561.090027  416.955414\n",
      "2024-11-20  229.000000  202.880005  175.979996  565.520020  414.659973\n",
      "2024-11-21  228.520004  198.380005  167.630005  563.090027  412.869995\n",
      "2024-11-22  229.869995  197.119995  164.759995  559.140015  417.000000\n",
      "2024-11-25  232.869995  201.449997  167.649994  565.109985  418.790009\n",
      "2024-11-26  235.059998  207.860001  169.119995  573.539978  427.989990\n",
      "2024-11-27  234.929993  205.740005  169.229996  569.200012  422.989990\n"
     ]
    },
    {
     "name": "stderr",
     "output_type": "stream",
     "text": [
      "\n"
     ]
    }
   ],
   "source": [
    "import yfinance as yf\n",
    "import pandas as pd\n",
    "import numpy as np\n",
    "import cvxpy as cp\n",
    "\n",
    "tickers = ['AAPL', 'MSFT', 'GOOGL', 'AMZN', 'META']  \n",
    "\n",
    "start_date = '2020-01-01'\n",
    "end_date = '2024-11-29'\n",
    "\n",
    "adj_close = yf.download(tickers, start=start_date, end=end_date)['Adj Close']\n",
    "\n",
    "print(adj_close.tail(10))\n",
    "\n",
    "adj_close.to_csv('adj_close_prices.csv')#save file for section use offline \n",
    "\n"
   ]
  },
  {
   "cell_type": "code",
   "execution_count": 31,
   "metadata": {},
   "outputs": [
    {
     "data": {
      "text/html": [
       "<div>\n",
       "<style scoped>\n",
       "    .dataframe tbody tr th:only-of-type {\n",
       "        vertical-align: middle;\n",
       "    }\n",
       "\n",
       "    .dataframe tbody tr th {\n",
       "        vertical-align: top;\n",
       "    }\n",
       "\n",
       "    .dataframe thead th {\n",
       "        text-align: right;\n",
       "    }\n",
       "</style>\n",
       "<table border=\"1\" class=\"dataframe\">\n",
       "  <thead>\n",
       "    <tr style=\"text-align: right;\">\n",
       "      <th>Ticker</th>\n",
       "      <th>AAPL</th>\n",
       "      <th>AMZN</th>\n",
       "      <th>GOOGL</th>\n",
       "      <th>META</th>\n",
       "      <th>MSFT</th>\n",
       "    </tr>\n",
       "    <tr>\n",
       "      <th>Date</th>\n",
       "      <th></th>\n",
       "      <th></th>\n",
       "      <th></th>\n",
       "      <th></th>\n",
       "      <th></th>\n",
       "    </tr>\n",
       "  </thead>\n",
       "  <tbody>\n",
       "    <tr>\n",
       "      <th>2020-01-03</th>\n",
       "      <td>-0.009722</td>\n",
       "      <td>-0.012139</td>\n",
       "      <td>-0.005231</td>\n",
       "      <td>-0.005291</td>\n",
       "      <td>-0.012452</td>\n",
       "    </tr>\n",
       "    <tr>\n",
       "      <th>2020-01-06</th>\n",
       "      <td>0.007968</td>\n",
       "      <td>0.014886</td>\n",
       "      <td>0.026654</td>\n",
       "      <td>0.018834</td>\n",
       "      <td>0.002585</td>\n",
       "    </tr>\n",
       "    <tr>\n",
       "      <th>2020-01-07</th>\n",
       "      <td>-0.004703</td>\n",
       "      <td>0.002092</td>\n",
       "      <td>-0.001931</td>\n",
       "      <td>0.002164</td>\n",
       "      <td>-0.009118</td>\n",
       "    </tr>\n",
       "    <tr>\n",
       "      <th>2020-01-08</th>\n",
       "      <td>0.016086</td>\n",
       "      <td>-0.007809</td>\n",
       "      <td>0.007118</td>\n",
       "      <td>0.010138</td>\n",
       "      <td>0.015928</td>\n",
       "    </tr>\n",
       "    <tr>\n",
       "      <th>2020-01-09</th>\n",
       "      <td>0.021241</td>\n",
       "      <td>0.004799</td>\n",
       "      <td>0.010498</td>\n",
       "      <td>0.014311</td>\n",
       "      <td>0.012493</td>\n",
       "    </tr>\n",
       "    <tr>\n",
       "      <th>...</th>\n",
       "      <td>...</td>\n",
       "      <td>...</td>\n",
       "      <td>...</td>\n",
       "      <td>...</td>\n",
       "      <td>...</td>\n",
       "    </tr>\n",
       "    <tr>\n",
       "      <th>2024-11-21</th>\n",
       "      <td>-0.002096</td>\n",
       "      <td>-0.022181</td>\n",
       "      <td>-0.047449</td>\n",
       "      <td>-0.004297</td>\n",
       "      <td>-0.004317</td>\n",
       "    </tr>\n",
       "    <tr>\n",
       "      <th>2024-11-22</th>\n",
       "      <td>0.005908</td>\n",
       "      <td>-0.006351</td>\n",
       "      <td>-0.017121</td>\n",
       "      <td>-0.007015</td>\n",
       "      <td>0.010003</td>\n",
       "    </tr>\n",
       "    <tr>\n",
       "      <th>2024-11-25</th>\n",
       "      <td>0.013051</td>\n",
       "      <td>0.021966</td>\n",
       "      <td>0.017541</td>\n",
       "      <td>0.010677</td>\n",
       "      <td>0.004293</td>\n",
       "    </tr>\n",
       "    <tr>\n",
       "      <th>2024-11-26</th>\n",
       "      <td>0.009404</td>\n",
       "      <td>0.031819</td>\n",
       "      <td>0.008768</td>\n",
       "      <td>0.014917</td>\n",
       "      <td>0.021968</td>\n",
       "    </tr>\n",
       "    <tr>\n",
       "      <th>2024-11-27</th>\n",
       "      <td>-0.000553</td>\n",
       "      <td>-0.010199</td>\n",
       "      <td>0.000650</td>\n",
       "      <td>-0.007567</td>\n",
       "      <td>-0.011683</td>\n",
       "    </tr>\n",
       "  </tbody>\n",
       "</table>\n",
       "<p>1235 rows × 5 columns</p>\n",
       "</div>"
      ],
      "text/plain": [
       "Ticker          AAPL      AMZN     GOOGL      META      MSFT\n",
       "Date                                                        \n",
       "2020-01-03 -0.009722 -0.012139 -0.005231 -0.005291 -0.012452\n",
       "2020-01-06  0.007968  0.014886  0.026654  0.018834  0.002585\n",
       "2020-01-07 -0.004703  0.002092 -0.001931  0.002164 -0.009118\n",
       "2020-01-08  0.016086 -0.007809  0.007118  0.010138  0.015928\n",
       "2020-01-09  0.021241  0.004799  0.010498  0.014311  0.012493\n",
       "...              ...       ...       ...       ...       ...\n",
       "2024-11-21 -0.002096 -0.022181 -0.047449 -0.004297 -0.004317\n",
       "2024-11-22  0.005908 -0.006351 -0.017121 -0.007015  0.010003\n",
       "2024-11-25  0.013051  0.021966  0.017541  0.010677  0.004293\n",
       "2024-11-26  0.009404  0.031819  0.008768  0.014917  0.021968\n",
       "2024-11-27 -0.000553 -0.010199  0.000650 -0.007567 -0.011683\n",
       "\n",
       "[1235 rows x 5 columns]"
      ]
     },
     "execution_count": 31,
     "metadata": {},
     "output_type": "execute_result"
    }
   ],
   "source": [
    "returns = adj_close.pct_change().dropna()\n",
    "\n",
    "returns"
   ]
  },
  {
   "cell_type": "code",
   "execution_count": 32,
   "metadata": {},
   "outputs": [
    {
     "name": "stdout",
     "output_type": "stream",
     "text": [
      "Ticker\n",
      "AAPL     0.001151\n",
      "AMZN     0.000885\n",
      "GOOGL    0.000944\n",
      "META     0.001220\n",
      "MSFT     0.001007\n",
      "dtype: float64 Ticker      AAPL      AMZN     GOOGL      META      MSFT\n",
      "Ticker                                                  \n",
      "AAPL    0.000404  0.000271  0.000268  0.000322  0.000291\n",
      "AMZN    0.000271  0.000517  0.000301  0.000394  0.000298\n",
      "GOOGL   0.000268  0.000301  0.000418  0.000374  0.000296\n",
      "META    0.000322  0.000394  0.000374  0.000809  0.000341\n",
      "MSFT    0.000291  0.000298  0.000296  0.000341  0.000373\n"
     ]
    }
   ],
   "source": [
    "expected_returns = returns.mean()\n",
    "cov_matrix = returns.cov()\n",
    "\n",
    "print(expected_returns, cov_matrix)"
   ]
  },
  {
   "cell_type": "code",
   "execution_count": 33,
   "metadata": {},
   "outputs": [],
   "source": [
    "lambda_risk = .5"
   ]
  },
  {
   "cell_type": "code",
   "execution_count": 34,
   "metadata": {},
   "outputs": [],
   "source": [
    "n_assets = len(tickers)\n",
    "weights = cp.Variable(n_assets)"
   ]
  },
  {
   "cell_type": "code",
   "execution_count": 35,
   "metadata": {},
   "outputs": [],
   "source": [
    "portfolio_return = expected_returns.values @ weights\n",
    "portfolio_variance = cp.quad_form(weights, cov_matrix)\n",
    "objective = cp.Minimize(-portfolio_return + lambda_risk * portfolio_variance)"
   ]
  },
  {
   "cell_type": "code",
   "execution_count": 36,
   "metadata": {},
   "outputs": [],
   "source": [
    "constraints = [cp.sum(weights) == 1, weights >= 0]\n"
   ]
  },
  {
   "cell_type": "code",
   "execution_count": 37,
   "metadata": {},
   "outputs": [
    {
     "data": {
      "text/plain": [
       "-0.0009688451985608963"
      ]
     },
     "execution_count": 37,
     "metadata": {},
     "output_type": "execute_result"
    }
   ],
   "source": [
    "problem = cp.Problem(objective, constraints)\n",
    "problem.solve()"
   ]
  },
  {
   "cell_type": "code",
   "execution_count": 38,
   "metadata": {},
   "outputs": [],
   "source": [
    "optimal_weights = weights.value"
   ]
  },
  {
   "cell_type": "code",
   "execution_count": 39,
   "metadata": {},
   "outputs": [
    {
     "name": "stdout",
     "output_type": "stream",
     "text": [
      "Optimal Weights:\n",
      "AAPL: 0.7339\n",
      "MSFT: 0.0000\n",
      "GOOGL: 0.0000\n",
      "AMZN: 0.2661\n",
      "META: 0.0000\n"
     ]
    }
   ],
   "source": [
    "print(\"Optimal Weights:\")\n",
    "for i, ticker in enumerate(tickers):\n",
    "    print(f\"{ticker}: {optimal_weights[i]:.4f}\")\n",
    "optimal_weights_df = pd.DataFrame(optimal_weights, index=tickers, columns=['Weight'])\n",
    "optimal_weights_df.to_csv('optimal_weights.csv')\n"
   ]
  },
  {
   "cell_type": "markdown",
   "metadata": {},
   "source": [
    "# add quadrtic function for non convex\n"
   ]
  },
  {
   "cell_type": "code",
   "execution_count": 42,
   "metadata": {},
   "outputs": [],
   "source": [
    "non_linear_constraint_exp = cp.exp(weights[2]) <= 1.5\n",
    "constraints.append(non_linear_constraint_exp)"
   ]
  },
  {
   "cell_type": "code",
   "execution_count": 43,
   "metadata": {},
   "outputs": [
    {
     "name": "stdout",
     "output_type": "stream",
     "text": [
      "Optimal Weights:\n",
      "AAPL: 0.7339\n",
      "MSFT: 0.0000\n",
      "GOOGL: 0.0000\n",
      "AMZN: 0.2661\n",
      "META: 0.0000\n"
     ]
    }
   ],
   "source": [
    "problem = cp.Problem(objective, constraints)\n",
    "problem.solve()\n",
    "\n",
    "\n",
    "print(\"Optimal Weights:\")\n",
    "for i, ticker in enumerate(tickers):\n",
    "    print(f\"{ticker}: {optimal_weights[i]:.4f}\")\n",
    "optimal_weights_df = pd.DataFrame(optimal_weights, index=tickers, columns=['Weight'])\n",
    "optimal_weights_df.to_csv('optimal_weights.csv')\n"
   ]
  },
  {
   "cell_type": "code",
   "execution_count": null,
   "metadata": {},
   "outputs": [],
   "source": []
  }
 ],
 "metadata": {
  "kernelspec": {
   "display_name": "Python 3",
   "language": "python",
   "name": "python3"
  },
  "language_info": {
   "codemirror_mode": {
    "name": "ipython",
    "version": 3
   },
   "file_extension": ".py",
   "mimetype": "text/x-python",
   "name": "python",
   "nbconvert_exporter": "python",
   "pygments_lexer": "ipython3",
   "version": "3.11.0"
  }
 },
 "nbformat": 4,
 "nbformat_minor": 2
}
